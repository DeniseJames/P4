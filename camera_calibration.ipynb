{
 "cells": [
  {
   "cell_type": "code",
   "execution_count": 1,
   "metadata": {
    "collapsed": false
   },
   "outputs": [
    {
     "data": {
      "text/html": [
       "<style> code {background-color : pink !important;} </style>"
      ],
      "text/plain": [
       "<IPython.core.display.HTML object>"
      ]
     },
     "metadata": {},
     "output_type": "display_data"
    }
   ],
   "source": [
    "%%HTML\n",
    "<style> code {background-color : pink !important;} </style>"
   ]
  },
  {
   "cell_type": "markdown",
   "metadata": {},
   "source": [
    "Camera Calibration with OpenCV\n",
    "===\n",
    "\n",
    "### Run the code in the cell below to extract object points and image points for camera calibration.  "
   ]
  },
  {
   "cell_type": "markdown",
   "metadata": {},
   "source": [
    "### If the above cell ran sucessfully, you should now have `objpoints` and `imgpoints` needed for camera calibration.  Run the cell below to calibrate, calculate distortion coefficients, and test undistortion on an image!"
   ]
  },
  {
   "cell_type": "code",
   "execution_count": 2,
   "metadata": {
    "collapsed": false
   },
   "outputs": [
    {
     "name": "stdout",
     "output_type": "stream",
     "text": [
      "Picture passed calibration: CarND-Advanced-Lane-Lines-master/camera_cal/calibration10.jpg\n",
      "Picture passed calibration: CarND-Advanced-Lane-Lines-master/camera_cal/calibration13.jpg\n",
      "Picture passed calibration: CarND-Advanced-Lane-Lines-master/camera_cal/calibration2.jpg\n",
      "Picture passed calibration: CarND-Advanced-Lane-Lines-master/camera_cal/calibration9.jpg\n",
      "Picture passed calibration: CarND-Advanced-Lane-Lines-master/camera_cal/calibration8.jpg\n",
      "Picture failed calibration:  CarND-Advanced-Lane-Lines-master/camera_cal/calibration1.jpg\n",
      "Picture passed calibration: CarND-Advanced-Lane-Lines-master/camera_cal/calibration17.jpg\n",
      "Picture passed calibration: CarND-Advanced-Lane-Lines-master/camera_cal/calibration6.jpg\n",
      "Picture failed calibration:  CarND-Advanced-Lane-Lines-master/camera_cal/calibration5.jpg\n",
      "Picture passed calibration: CarND-Advanced-Lane-Lines-master/camera_cal/calibration3.jpg\n",
      "Picture passed calibration: CarND-Advanced-Lane-Lines-master/camera_cal/calibration18.jpg\n",
      "Picture passed calibration: CarND-Advanced-Lane-Lines-master/camera_cal/calibration12.jpg\n",
      "Picture passed calibration: CarND-Advanced-Lane-Lines-master/camera_cal/calibration7.jpg\n",
      "Picture failed calibration:  CarND-Advanced-Lane-Lines-master/camera_cal/calibration4.jpg\n",
      "Picture passed calibration: CarND-Advanced-Lane-Lines-master/camera_cal/calibration15.jpg\n",
      "Picture passed calibration: CarND-Advanced-Lane-Lines-master/camera_cal/calibration11.jpg\n",
      "Picture passed calibration: CarND-Advanced-Lane-Lines-master/camera_cal/calibration19.jpg\n",
      "Picture passed calibration: CarND-Advanced-Lane-Lines-master/camera_cal/calibration20.jpg\n",
      "Picture passed calibration: CarND-Advanced-Lane-Lines-master/camera_cal/calibration14.jpg\n",
      "Picture passed calibration: CarND-Advanced-Lane-Lines-master/camera_cal/calibration16.jpg\n"
     ]
    }
   ],
   "source": [
    "import numpy as np\n",
    "import cv2\n",
    "import matplotlib.pyplot as plt\n",
    "import matplotlib.image as mpimg\n",
    "import pickle\n",
    "%matplotlib inline\n",
    "\n",
    "import glob\n",
    "import matplotlib.gridspec as gridspec\n",
    "from tqdm import tqdm\n",
    "\n",
    "# prepare object points, like (0,0,0), (1,0,0), (2,0,0) ....,(6,5,0)\n",
    "objp = np.zeros((6*9,3), np.float32)\n",
    "objp[:,:2] = np.mgrid[0:9, 0:6].T.reshape(-1,2)\n",
    "\n",
    "# Arrays to store object points and image points from all the images.\n",
    "objpoints = [] # 3d points in real world space\n",
    "imgpoints = [] # 2d points in image plane.\n",
    "\n",
    "# Make a list of calibration images\n",
    "images = glob.glob('CarND-Advanced-Lane-Lines-master/camera_cal/calibration*.jpg')\n",
    "\n",
    "# Step through the list and search for chessboard corners\n",
    "for idx, fname in enumerate(images):\n",
    "    img = cv2.imread(fname)\n",
    "    gray = cv2.cvtColor(img, cv2.COLOR_BGR2GRAY)\n",
    "\n",
    "    # Find the chessboard corners\n",
    "    ret, corners = cv2.findChessboardCorners(gray, (9,6), None)\n",
    "\n",
    "    # If found, add object points, image points\n",
    "    if ret == True:\n",
    "        objpoints.append(objp)\n",
    "        imgpoints.append(corners)\n",
    "        print(\"Picture passed calibration:\", fname)\n",
    "        # Draw and display the corners\n",
    "        cv2.drawChessboardCorners(img, (9,6), corners, ret)\n",
    "        write_name = 'corners_found'+str(idx)+'.jpg'\n",
    "        cv2.imwrite(write_name, img)\n",
    "        cv2.imshow('img', img)\n",
    "        cv2.waitKey(500)\n",
    "        \n",
    "    else: \n",
    "        print(\"Picture failed calibration: \", fname)\n",
    "\n",
    "#cv2.destroyAllWindows()"
   ]
  },
  {
   "cell_type": "code",
   "execution_count": null,
   "metadata": {
    "collapsed": true
   },
   "outputs": [],
   "source": []
  }
 ],
 "metadata": {
  "anaconda-cloud": {},
  "kernelspec": {
   "display_name": "Python [conda env:keras]",
   "language": "python",
   "name": "conda-env-keras-py"
  },
  "language_info": {
   "codemirror_mode": {
    "name": "ipython",
    "version": 3
   },
   "file_extension": ".py",
   "mimetype": "text/x-python",
   "name": "python",
   "nbconvert_exporter": "python",
   "pygments_lexer": "ipython3",
   "version": "3.5.2"
  }
 },
 "nbformat": 4,
 "nbformat_minor": 1
}
